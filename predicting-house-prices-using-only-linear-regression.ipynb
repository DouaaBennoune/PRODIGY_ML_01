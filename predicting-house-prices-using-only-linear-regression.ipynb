{
 "cells": [
  {
   "cell_type": "markdown",
   "id": "e67c9f10",
   "metadata": {
    "papermill": {
     "duration": 0.007544,
     "end_time": "2024-11-29T19:51:22.169705",
     "exception": false,
     "start_time": "2024-11-29T19:51:22.162161",
     "status": "completed"
    },
    "tags": []
   },
   "source": [
    "# House Prices Prediction using Linear Regression"
   ]
  },
  {
   "cell_type": "markdown",
   "id": "aa6d30f7",
   "metadata": {
    "papermill": {
     "duration": 0.006806,
     "end_time": "2024-11-29T19:51:22.183533",
     "exception": false,
     "start_time": "2024-11-29T19:51:22.176727",
     "status": "completed"
    },
    "tags": []
   },
   "source": [
    "In this notebook, we will walk you through the application of linear regression to predict house prices . Linear regression is a fundamental statistical technique used to model the relationship between a dependent variable(the price) and one or more independent variables(square footage,number of bedrooms and bathrooms). By leveraging this method, we aim to develop a predictive model that can estimate the price of a house based on its features."
   ]
  },
  {
   "cell_type": "markdown",
   "id": "44741b7a",
   "metadata": {
    "papermill": {
     "duration": 0.006616,
     "end_time": "2024-11-29T19:51:22.197209",
     "exception": false,
     "start_time": "2024-11-29T19:51:22.190593",
     "status": "completed"
    },
    "tags": []
   },
   "source": [
    "# 1. Data Preparation and Feature Engineering"
   ]
  },
  {
   "cell_type": "code",
   "execution_count": 1,
   "id": "be829313",
   "metadata": {
    "_cell_guid": "b1076dfc-b9ad-4769-8c92-a6c4dae69d19",
    "_uuid": "8f2839f25d086af736a60e9eeb907d3b93b6e0e5",
    "execution": {
     "iopub.execute_input": "2024-11-29T19:51:22.214434Z",
     "iopub.status.busy": "2024-11-29T19:51:22.213072Z",
     "iopub.status.idle": "2024-11-29T19:51:25.441218Z",
     "shell.execute_reply": "2024-11-29T19:51:25.439222Z"
    },
    "papermill": {
     "duration": 3.239545,
     "end_time": "2024-11-29T19:51:25.443693",
     "exception": false,
     "start_time": "2024-11-29T19:51:22.204148",
     "status": "completed"
    },
    "tags": []
   },
   "outputs": [],
   "source": [
    "import numpy as np \n",
    "import pandas as pd\n",
    "from math import sqrt\n",
    "from scipy.stats import skew\n",
    "import matplotlib.pyplot as plt\n",
    "from sklearn import linear_model\n",
    "from sklearn import preprocessing\n",
    "from sklearn.model_selection import train_test_split\n",
    "from sklearn.metrics import mean_absolute_error, mean_squared_error"
   ]
  },
  {
   "cell_type": "markdown",
   "id": "40b9edeb",
   "metadata": {
    "papermill": {
     "duration": 0.006655,
     "end_time": "2024-11-29T19:51:25.459269",
     "exception": false,
     "start_time": "2024-11-29T19:51:25.452614",
     "status": "completed"
    },
    "tags": []
   },
   "source": [
    "Load the dataset."
   ]
  },
  {
   "cell_type": "code",
   "execution_count": 2,
   "id": "7245da2a",
   "metadata": {
    "execution": {
     "iopub.execute_input": "2024-11-29T19:51:25.474702Z",
     "iopub.status.busy": "2024-11-29T19:51:25.474175Z",
     "iopub.status.idle": "2024-11-29T19:51:25.598877Z",
     "shell.execute_reply": "2024-11-29T19:51:25.597620Z"
    },
    "papermill": {
     "duration": 0.135533,
     "end_time": "2024-11-29T19:51:25.601653",
     "exception": false,
     "start_time": "2024-11-29T19:51:25.466120",
     "status": "completed"
    },
    "tags": []
   },
   "outputs": [
    {
     "data": {
      "text/html": [
       "<div>\n",
       "<style scoped>\n",
       "    .dataframe tbody tr th:only-of-type {\n",
       "        vertical-align: middle;\n",
       "    }\n",
       "\n",
       "    .dataframe tbody tr th {\n",
       "        vertical-align: top;\n",
       "    }\n",
       "\n",
       "    .dataframe thead th {\n",
       "        text-align: right;\n",
       "    }\n",
       "</style>\n",
       "<table border=\"1\" class=\"dataframe\">\n",
       "  <thead>\n",
       "    <tr style=\"text-align: right;\">\n",
       "      <th></th>\n",
       "      <th>Id</th>\n",
       "      <th>MSSubClass</th>\n",
       "      <th>MSZoning</th>\n",
       "      <th>LotFrontage</th>\n",
       "      <th>LotArea</th>\n",
       "      <th>Street</th>\n",
       "      <th>Alley</th>\n",
       "      <th>LotShape</th>\n",
       "      <th>LandContour</th>\n",
       "      <th>Utilities</th>\n",
       "      <th>...</th>\n",
       "      <th>PoolArea</th>\n",
       "      <th>PoolQC</th>\n",
       "      <th>Fence</th>\n",
       "      <th>MiscFeature</th>\n",
       "      <th>MiscVal</th>\n",
       "      <th>MoSold</th>\n",
       "      <th>YrSold</th>\n",
       "      <th>SaleType</th>\n",
       "      <th>SaleCondition</th>\n",
       "      <th>SalePrice</th>\n",
       "    </tr>\n",
       "  </thead>\n",
       "  <tbody>\n",
       "    <tr>\n",
       "      <th>0</th>\n",
       "      <td>1</td>\n",
       "      <td>60</td>\n",
       "      <td>RL</td>\n",
       "      <td>65.0</td>\n",
       "      <td>8450</td>\n",
       "      <td>Pave</td>\n",
       "      <td>NaN</td>\n",
       "      <td>Reg</td>\n",
       "      <td>Lvl</td>\n",
       "      <td>AllPub</td>\n",
       "      <td>...</td>\n",
       "      <td>0</td>\n",
       "      <td>NaN</td>\n",
       "      <td>NaN</td>\n",
       "      <td>NaN</td>\n",
       "      <td>0</td>\n",
       "      <td>2</td>\n",
       "      <td>2008</td>\n",
       "      <td>WD</td>\n",
       "      <td>Normal</td>\n",
       "      <td>208500</td>\n",
       "    </tr>\n",
       "    <tr>\n",
       "      <th>1</th>\n",
       "      <td>2</td>\n",
       "      <td>20</td>\n",
       "      <td>RL</td>\n",
       "      <td>80.0</td>\n",
       "      <td>9600</td>\n",
       "      <td>Pave</td>\n",
       "      <td>NaN</td>\n",
       "      <td>Reg</td>\n",
       "      <td>Lvl</td>\n",
       "      <td>AllPub</td>\n",
       "      <td>...</td>\n",
       "      <td>0</td>\n",
       "      <td>NaN</td>\n",
       "      <td>NaN</td>\n",
       "      <td>NaN</td>\n",
       "      <td>0</td>\n",
       "      <td>5</td>\n",
       "      <td>2007</td>\n",
       "      <td>WD</td>\n",
       "      <td>Normal</td>\n",
       "      <td>181500</td>\n",
       "    </tr>\n",
       "    <tr>\n",
       "      <th>2</th>\n",
       "      <td>3</td>\n",
       "      <td>60</td>\n",
       "      <td>RL</td>\n",
       "      <td>68.0</td>\n",
       "      <td>11250</td>\n",
       "      <td>Pave</td>\n",
       "      <td>NaN</td>\n",
       "      <td>IR1</td>\n",
       "      <td>Lvl</td>\n",
       "      <td>AllPub</td>\n",
       "      <td>...</td>\n",
       "      <td>0</td>\n",
       "      <td>NaN</td>\n",
       "      <td>NaN</td>\n",
       "      <td>NaN</td>\n",
       "      <td>0</td>\n",
       "      <td>9</td>\n",
       "      <td>2008</td>\n",
       "      <td>WD</td>\n",
       "      <td>Normal</td>\n",
       "      <td>223500</td>\n",
       "    </tr>\n",
       "    <tr>\n",
       "      <th>3</th>\n",
       "      <td>4</td>\n",
       "      <td>70</td>\n",
       "      <td>RL</td>\n",
       "      <td>60.0</td>\n",
       "      <td>9550</td>\n",
       "      <td>Pave</td>\n",
       "      <td>NaN</td>\n",
       "      <td>IR1</td>\n",
       "      <td>Lvl</td>\n",
       "      <td>AllPub</td>\n",
       "      <td>...</td>\n",
       "      <td>0</td>\n",
       "      <td>NaN</td>\n",
       "      <td>NaN</td>\n",
       "      <td>NaN</td>\n",
       "      <td>0</td>\n",
       "      <td>2</td>\n",
       "      <td>2006</td>\n",
       "      <td>WD</td>\n",
       "      <td>Abnorml</td>\n",
       "      <td>140000</td>\n",
       "    </tr>\n",
       "    <tr>\n",
       "      <th>4</th>\n",
       "      <td>5</td>\n",
       "      <td>60</td>\n",
       "      <td>RL</td>\n",
       "      <td>84.0</td>\n",
       "      <td>14260</td>\n",
       "      <td>Pave</td>\n",
       "      <td>NaN</td>\n",
       "      <td>IR1</td>\n",
       "      <td>Lvl</td>\n",
       "      <td>AllPub</td>\n",
       "      <td>...</td>\n",
       "      <td>0</td>\n",
       "      <td>NaN</td>\n",
       "      <td>NaN</td>\n",
       "      <td>NaN</td>\n",
       "      <td>0</td>\n",
       "      <td>12</td>\n",
       "      <td>2008</td>\n",
       "      <td>WD</td>\n",
       "      <td>Normal</td>\n",
       "      <td>250000</td>\n",
       "    </tr>\n",
       "  </tbody>\n",
       "</table>\n",
       "<p>5 rows × 81 columns</p>\n",
       "</div>"
      ],
      "text/plain": [
       "   Id  MSSubClass MSZoning  LotFrontage  LotArea Street Alley LotShape  \\\n",
       "0   1          60       RL         65.0     8450   Pave   NaN      Reg   \n",
       "1   2          20       RL         80.0     9600   Pave   NaN      Reg   \n",
       "2   3          60       RL         68.0    11250   Pave   NaN      IR1   \n",
       "3   4          70       RL         60.0     9550   Pave   NaN      IR1   \n",
       "4   5          60       RL         84.0    14260   Pave   NaN      IR1   \n",
       "\n",
       "  LandContour Utilities  ... PoolArea PoolQC Fence MiscFeature MiscVal MoSold  \\\n",
       "0         Lvl    AllPub  ...        0    NaN   NaN         NaN       0      2   \n",
       "1         Lvl    AllPub  ...        0    NaN   NaN         NaN       0      5   \n",
       "2         Lvl    AllPub  ...        0    NaN   NaN         NaN       0      9   \n",
       "3         Lvl    AllPub  ...        0    NaN   NaN         NaN       0      2   \n",
       "4         Lvl    AllPub  ...        0    NaN   NaN         NaN       0     12   \n",
       "\n",
       "  YrSold  SaleType  SaleCondition  SalePrice  \n",
       "0   2008        WD         Normal     208500  \n",
       "1   2007        WD         Normal     181500  \n",
       "2   2008        WD         Normal     223500  \n",
       "3   2006        WD        Abnorml     140000  \n",
       "4   2008        WD         Normal     250000  \n",
       "\n",
       "[5 rows x 81 columns]"
      ]
     },
     "execution_count": 2,
     "metadata": {},
     "output_type": "execute_result"
    }
   ],
   "source": [
    "# load the datasets into dataframe\n",
    "train = pd.read_csv('/kaggle/input/prodigy-task-01/train.csv')\n",
    "test = pd.read_csv('/kaggle/input/prodigy-task-01/test.csv')\n",
    "train.head()"
   ]
  },
  {
   "cell_type": "code",
   "execution_count": 3,
   "id": "9b41df62",
   "metadata": {
    "execution": {
     "iopub.execute_input": "2024-11-29T19:51:25.618379Z",
     "iopub.status.busy": "2024-11-29T19:51:25.617977Z",
     "iopub.status.idle": "2024-11-29T19:51:25.624697Z",
     "shell.execute_reply": "2024-11-29T19:51:25.623513Z"
    },
    "papermill": {
     "duration": 0.017478,
     "end_time": "2024-11-29T19:51:25.626785",
     "exception": false,
     "start_time": "2024-11-29T19:51:25.609307",
     "status": "completed"
    },
    "tags": []
   },
   "outputs": [
    {
     "name": "stdout",
     "output_type": "stream",
     "text": [
      "Number of records in train dataset:  1460\n",
      "Number of columns in train dataset:  81\n",
      "Number of records in test dataset:  1459\n",
      "Number of columns in test dataset:  80\n"
     ]
    }
   ],
   "source": [
    "# check the number of records and columns in both of datasets\n",
    "print('Number of records in train dataset: ', len(train.index))\n",
    "print('Number of columns in train dataset: ', len(train.columns))\n",
    "print('Number of records in test dataset: ', len(test.index))\n",
    "print('Number of columns in test dataset: ', len(test.columns))"
   ]
  },
  {
   "cell_type": "code",
   "execution_count": 4,
   "id": "427deade",
   "metadata": {
    "execution": {
     "iopub.execute_input": "2024-11-29T19:51:25.644616Z",
     "iopub.status.busy": "2024-11-29T19:51:25.644193Z",
     "iopub.status.idle": "2024-11-29T19:51:25.660076Z",
     "shell.execute_reply": "2024-11-29T19:51:25.658843Z"
    },
    "papermill": {
     "duration": 0.028434,
     "end_time": "2024-11-29T19:51:25.662878",
     "exception": false,
     "start_time": "2024-11-29T19:51:25.634444",
     "status": "completed"
    },
    "tags": []
   },
   "outputs": [
    {
     "name": "stdout",
     "output_type": "stream",
     "text": [
      "Total missing values in train set 7829\n",
      "Total missing values in test set 7878\n"
     ]
    }
   ],
   "source": [
    "# check the missing values\n",
    "print ('Total missing values in train set', sum(train.isna().sum()))\n",
    "print ('Total missing values in test set', sum(test.isna().sum()))"
   ]
  },
  {
   "cell_type": "code",
   "execution_count": 5,
   "id": "fcd95f95",
   "metadata": {
    "execution": {
     "iopub.execute_input": "2024-11-29T19:51:25.679271Z",
     "iopub.status.busy": "2024-11-29T19:51:25.678868Z",
     "iopub.status.idle": "2024-11-29T19:51:25.693805Z",
     "shell.execute_reply": "2024-11-29T19:51:25.692769Z"
    },
    "papermill": {
     "duration": 0.025543,
     "end_time": "2024-11-29T19:51:25.695834",
     "exception": false,
     "start_time": "2024-11-29T19:51:25.670291",
     "status": "completed"
    },
    "tags": []
   },
   "outputs": [
    {
     "data": {
      "text/plain": [
       "count      1460.000000\n",
       "mean     180921.195890\n",
       "std       79442.502883\n",
       "min       34900.000000\n",
       "25%      129975.000000\n",
       "50%      163000.000000\n",
       "75%      214000.000000\n",
       "max      755000.000000\n",
       "Name: SalePrice, dtype: float64"
      ]
     },
     "execution_count": 5,
     "metadata": {},
     "output_type": "execute_result"
    }
   ],
   "source": [
    "train['SalePrice'].describe()"
   ]
  },
  {
   "cell_type": "markdown",
   "id": "6a654208",
   "metadata": {
    "papermill": {
     "duration": 0.007436,
     "end_time": "2024-11-29T19:51:25.711064",
     "exception": false,
     "start_time": "2024-11-29T19:51:25.703628",
     "status": "completed"
    },
    "tags": []
   },
   "source": [
    "The aobve line code shows that the average sale price of a house is close to 180,000 with most of the values falling within the 130,000 to 215,000 range. Next step is to show the relationship between the columns to examine the correlations between the features and the target."
   ]
  },
  {
   "cell_type": "code",
   "execution_count": 6,
   "id": "caa6f32a",
   "metadata": {
    "execution": {
     "iopub.execute_input": "2024-11-29T19:51:25.727668Z",
     "iopub.status.busy": "2024-11-29T19:51:25.727242Z",
     "iopub.status.idle": "2024-11-29T19:51:25.751549Z",
     "shell.execute_reply": "2024-11-29T19:51:25.749773Z"
    },
    "papermill": {
     "duration": 0.035648,
     "end_time": "2024-11-29T19:51:25.754107",
     "exception": false,
     "start_time": "2024-11-29T19:51:25.718459",
     "status": "completed"
    },
    "tags": []
   },
   "outputs": [
    {
     "name": "stdout",
     "output_type": "stream",
     "text": [
      "The Most Correlated Features with SalePrice:\n",
      "SalePrice       1.000000\n",
      "OverallQual     0.790982\n",
      "GrLivArea       0.708624\n",
      "GarageCars      0.640409\n",
      "GarageArea      0.623431\n",
      "TotalBsmtSF     0.613581\n",
      "1stFlrSF        0.605852\n",
      "FullBath        0.560664\n",
      "TotRmsAbvGrd    0.533723\n",
      "YearBuilt       0.522897\n",
      "Name: SalePrice, dtype: float64 \n",
      "\n",
      "The Most Uncorrelated Features with SalePrice:\n",
      "YrSold          -0.028923\n",
      "OverallCond     -0.077856\n",
      "MSSubClass      -0.084284\n",
      "EnclosedPorch   -0.128578\n",
      "KitchenAbvGr    -0.135907\n",
      "Name: SalePrice, dtype: float64\n"
     ]
    },
    {
     "data": {
      "text/plain": [
       "(None, None)"
      ]
     },
     "execution_count": 6,
     "metadata": {},
     "output_type": "execute_result"
    }
   ],
   "source": [
    "numeric_cols = train.select_dtypes(include = [np.number])\n",
    "corr = numeric_cols.corr()\n",
    "print ('The Most Correlated Features with SalePrice:'), print (corr['SalePrice'].sort_values(ascending = False)[:10], '\\n')\n",
    "print ('The Most Uncorrelated Features with SalePrice:'), print (corr['SalePrice'].sort_values(ascending = False)[-5:])"
   ]
  },
  {
   "cell_type": "markdown",
   "id": "f55efe0d",
   "metadata": {
    "papermill": {
     "duration": 0.007498,
     "end_time": "2024-11-29T19:51:25.769929",
     "exception": false,
     "start_time": "2024-11-29T19:51:25.762431",
     "status": "completed"
    },
    "tags": []
   },
   "source": [
    "The most correlated features to sale price were the overall quality score (79%), above-ground living area (71%), Bathrooms (56%). Next step is to plot each variable individually against SalePrice in a scatter plot to check outliers as outliers can affect the regression model by pulling the estimated regression line further away from the true population regression line."
   ]
  },
  {
   "cell_type": "raw",
   "id": "ac128732",
   "metadata": {
    "papermill": {
     "duration": 0.008521,
     "end_time": "2024-11-29T19:51:25.786097",
     "exception": false,
     "start_time": "2024-11-29T19:51:25.777576",
     "status": "completed"
    },
    "tags": []
   },
   "source": []
  },
  {
   "cell_type": "code",
   "execution_count": null,
   "id": "7d1f1623",
   "metadata": {
    "papermill": {
     "duration": 0.007757,
     "end_time": "2024-11-29T19:51:25.801633",
     "exception": false,
     "start_time": "2024-11-29T19:51:25.793876",
     "status": "completed"
    },
    "tags": []
   },
   "outputs": [],
   "source": []
  },
  {
   "cell_type": "code",
   "execution_count": 7,
   "id": "3e295025",
   "metadata": {
    "execution": {
     "iopub.execute_input": "2024-11-29T19:51:25.819204Z",
     "iopub.status.busy": "2024-11-29T19:51:25.818715Z",
     "iopub.status.idle": "2024-11-29T19:51:26.180100Z",
     "shell.execute_reply": "2024-11-29T19:51:26.178818Z"
    },
    "papermill": {
     "duration": 0.373022,
     "end_time": "2024-11-29T19:51:26.182382",
     "exception": false,
     "start_time": "2024-11-29T19:51:25.809360",
     "status": "completed"
    },
    "tags": []
   },
   "outputs": [
    {
     "data": {
      "text/plain": [
       "Text(0.5, 0, 'GrLivArea (Above grade \"ground\" living area square feet)')"
      ]
     },
     "execution_count": 7,
     "metadata": {},
     "output_type": "execute_result"
    },
    {
     "data": {
      "image/png": "[encoded data removed]",
      "text/plain": [
       "<Figure size 640x480 with 1 Axes>"
      ]
     },
     "metadata": {},
     "output_type": "display_data"
    }
   ],
   "source": [
    "plt.scatter(x = train['GrLivArea'], y = train['SalePrice'])\n",
    "plt.ylabel('SalePrice')\n",
    "plt.xlabel('GrLivArea (Above grade \"ground\" living area square feet)')"
   ]
  },
  {
   "cell_type": "markdown",
   "id": "7f645f51",
   "metadata": {
    "papermill": {
     "duration": 0.007925,
     "end_time": "2024-11-29T19:51:26.198766",
     "exception": false,
     "start_time": "2024-11-29T19:51:26.190841",
     "status": "completed"
    },
    "tags": []
   },
   "source": [
    "there are increases in living area correspond to increases in price, with few outliers."
   ]
  },
  {
   "cell_type": "code",
   "execution_count": 8,
   "id": "5d01ea1a",
   "metadata": {
    "execution": {
     "iopub.execute_input": "2024-11-29T19:51:26.219306Z",
     "iopub.status.busy": "2024-11-29T19:51:26.218869Z",
     "iopub.status.idle": "2024-11-29T19:51:26.465968Z",
     "shell.execute_reply": "2024-11-29T19:51:26.464789Z"
    },
    "papermill": {
     "duration": 0.260176,
     "end_time": "2024-11-29T19:51:26.468443",
     "exception": false,
     "start_time": "2024-11-29T19:51:26.208267",
     "status": "completed"
    },
    "tags": []
   },
   "outputs": [
    {
     "data": {
      "text/plain": [
       "Text(0.5, 0, 'BedroomAbvGr')"
      ]
     },
     "execution_count": 8,
     "metadata": {},
     "output_type": "execute_result"
    },
    {
     "data": {
      "image/png": "[encoded data removed]",
      "text/plain": [
       "<Figure size 640x480 with 1 Axes>"
      ]
     },
     "metadata": {},
     "output_type": "display_data"
    }
   ],
   "source": [
    "plt.scatter(x = train['BedroomAbvGr'], y = train['SalePrice'])\n",
    "plt.ylabel('SalePrice')\n",
    "plt.xlabel('BedroomAbvGr')"
   ]
  },
  {
   "cell_type": "code",
   "execution_count": 9,
   "id": "a8674ee0",
   "metadata": {
    "execution": {
     "iopub.execute_input": "2024-11-29T19:51:26.489630Z",
     "iopub.status.busy": "2024-11-29T19:51:26.489239Z",
     "iopub.status.idle": "2024-11-29T19:51:26.724313Z",
     "shell.execute_reply": "2024-11-29T19:51:26.722813Z"
    },
    "papermill": {
     "duration": 0.248932,
     "end_time": "2024-11-29T19:51:26.727270",
     "exception": false,
     "start_time": "2024-11-29T19:51:26.478338",
     "status": "completed"
    },
    "tags": []
   },
   "outputs": [
    {
     "data": {
      "text/plain": [
       "Text(0.5, 0, 'FullBath')"
      ]
     },
     "execution_count": 9,
     "metadata": {},
     "output_type": "execute_result"
    },
    {
     "data": {
      "image/png": "[encoded data removed]",
      "text/plain": [
       "<Figure size 640x480 with 1 Axes>"
      ]
     },
     "metadata": {},
     "output_type": "display_data"
    }
   ],
   "source": [
    "\n",
    "plt.scatter(x = train['FullBath'], y = train['SalePrice'])\n",
    "plt.ylabel('SalePrice')\n",
    "plt.xlabel('FullBath')"
   ]
  },
  {
   "cell_type": "markdown",
   "id": "d55bae73",
   "metadata": {
    "papermill": {
     "duration": 0.009672,
     "end_time": "2024-11-29T19:51:26.747024",
     "exception": false,
     "start_time": "2024-11-29T19:51:26.737352",
     "status": "completed"
    },
    "tags": []
   },
   "source": [
    "# Data Preprocessing"
   ]
  },
  {
   "cell_type": "markdown",
   "id": "b1fd9d11",
   "metadata": {
    "papermill": {
     "duration": 0.01001,
     "end_time": "2024-11-29T19:51:26.767363",
     "exception": false,
     "start_time": "2024-11-29T19:51:26.757353",
     "status": "completed"
    },
    "tags": []
   },
   "source": [
    "in this section the data is prepared (transformed, encoded, etc) to make it suitable for a building and training machine learning model. I chose to manually remove certain extreme outliers in the dataset to produce a better fit."
   ]
  },
  {
   "cell_type": "code",
   "execution_count": 10,
   "id": "a20e93fa",
   "metadata": {
    "execution": {
     "iopub.execute_input": "2024-11-29T19:51:26.790875Z",
     "iopub.status.busy": "2024-11-29T19:51:26.789571Z",
     "iopub.status.idle": "2024-11-29T19:51:26.798493Z",
     "shell.execute_reply": "2024-11-29T19:51:26.797258Z"
    },
    "papermill": {
     "duration": 0.022413,
     "end_time": "2024-11-29T19:51:26.801080",
     "exception": false,
     "start_time": "2024-11-29T19:51:26.778667",
     "status": "completed"
    },
    "tags": []
   },
   "outputs": [],
   "source": [
    "# remove GrLivArea outliers\n",
    "train = train[train['GrLivArea'] < 4500]"
   ]
  },
  {
   "cell_type": "code",
   "execution_count": 11,
   "id": "5a52dab2",
   "metadata": {
    "execution": {
     "iopub.execute_input": "2024-11-29T19:51:26.823441Z",
     "iopub.status.busy": "2024-11-29T19:51:26.823047Z",
     "iopub.status.idle": "2024-11-29T19:51:26.830072Z",
     "shell.execute_reply": "2024-11-29T19:51:26.829064Z"
    },
    "papermill": {
     "duration": 0.021178,
     "end_time": "2024-11-29T19:51:26.832850",
     "exception": false,
     "start_time": "2024-11-29T19:51:26.811672",
     "status": "completed"
    },
    "tags": []
   },
   "outputs": [],
   "source": [
    "# remove BedroomAbvGr outliers\n",
    "train = train[train['BedroomAbvGr'] <= 6]"
   ]
  },
  {
   "cell_type": "code",
   "execution_count": 12,
   "id": "711dfaee",
   "metadata": {
    "execution": {
     "iopub.execute_input": "2024-11-29T19:51:26.854265Z",
     "iopub.status.busy": "2024-11-29T19:51:26.853887Z",
     "iopub.status.idle": "2024-11-29T19:51:26.868514Z",
     "shell.execute_reply": "2024-11-29T19:51:26.867336Z"
    },
    "papermill": {
     "duration": 0.028468,
     "end_time": "2024-11-29T19:51:26.871090",
     "exception": false,
     "start_time": "2024-11-29T19:51:26.842622",
     "status": "completed"
    },
    "tags": []
   },
   "outputs": [
    {
     "name": "stdout",
     "output_type": "stream",
     "text": [
      "Alley          0.938229\n",
      "PoolQC         0.995882\n",
      "Fence          0.807138\n",
      "MiscFeature    0.962938\n",
      "dtype: float64\n"
     ]
    }
   ],
   "source": [
    "# drop columns with percentage of missing values > 80%\n",
    "train_percentage = train.isnull().sum() / train.shape[0]\n",
    "print (train_percentage[train_percentage > 0.80])\n",
    "train = train.drop(train_percentage[train_percentage > 0.80].index, axis = 1)"
   ]
  },
  {
   "cell_type": "code",
   "execution_count": 13,
   "id": "c682cc52",
   "metadata": {
    "execution": {
     "iopub.execute_input": "2024-11-29T19:51:26.893099Z",
     "iopub.status.busy": "2024-11-29T19:51:26.892014Z",
     "iopub.status.idle": "2024-11-29T19:51:26.906009Z",
     "shell.execute_reply": "2024-11-29T19:51:26.904625Z"
    },
    "papermill": {
     "duration": 0.027136,
     "end_time": "2024-11-29T19:51:26.908310",
     "exception": false,
     "start_time": "2024-11-29T19:51:26.881174",
     "status": "completed"
    },
    "tags": []
   },
   "outputs": [
    {
     "name": "stdout",
     "output_type": "stream",
     "text": [
      "Alley          0.926662\n",
      "PoolQC         0.997944\n",
      "Fence          0.801234\n",
      "MiscFeature    0.965045\n",
      "dtype: float64\n"
     ]
    }
   ],
   "source": [
    "# do the same with test data\n",
    "test_percentage = test.isnull().sum() / test.shape[0]\n",
    "print (test_percentage[test_percentage > 0.80])\n",
    "test = test.drop(test_percentage[test_percentage > 0.80].index, axis = 1)"
   ]
  },
  {
   "cell_type": "code",
   "execution_count": 14,
   "id": "da13aa93",
   "metadata": {
    "execution": {
     "iopub.execute_input": "2024-11-29T19:51:26.929877Z",
     "iopub.status.busy": "2024-11-29T19:51:26.929483Z",
     "iopub.status.idle": "2024-11-29T19:51:26.984844Z",
     "shell.execute_reply": "2024-11-29T19:51:26.983634Z"
    },
    "papermill": {
     "duration": 0.069245,
     "end_time": "2024-11-29T19:51:26.987299",
     "exception": false,
     "start_time": "2024-11-29T19:51:26.918054",
     "status": "completed"
    },
    "tags": []
   },
   "outputs": [],
   "source": [
    "# encode categorical variables\n",
    "le = preprocessing.LabelEncoder()\n",
    "for name in train.columns:\n",
    "    if train[name].dtypes == 'O':\n",
    "        train[name] = train[name].astype(str)\n",
    "        le.fit(train[name])\n",
    "        train[name] = le.transform(train[name])"
   ]
  },
  {
   "cell_type": "code",
   "execution_count": 15,
   "id": "f5db87d0",
   "metadata": {
    "execution": {
     "iopub.execute_input": "2024-11-29T19:51:27.008797Z",
     "iopub.status.busy": "2024-11-29T19:51:27.008389Z",
     "iopub.status.idle": "2024-11-29T19:51:27.056532Z",
     "shell.execute_reply": "2024-11-29T19:51:27.055398Z"
    },
    "papermill": {
     "duration": 0.06203,
     "end_time": "2024-11-29T19:51:27.059143",
     "exception": false,
     "start_time": "2024-11-29T19:51:26.997113",
     "status": "completed"
    },
    "tags": []
   },
   "outputs": [],
   "source": [
    "# do the same for testset\n",
    "for name in test.columns:\n",
    "    if test[name].dtypes == 'O':\n",
    "        test[name] = test[name].astype(str)\n",
    "        le.fit(test[name])\n",
    "        test[name] = le.transform(test[name])"
   ]
  },
  {
   "cell_type": "code",
   "execution_count": 16,
   "id": "affe4117",
   "metadata": {
    "execution": {
     "iopub.execute_input": "2024-11-29T19:51:27.080565Z",
     "iopub.status.busy": "2024-11-29T19:51:27.080197Z",
     "iopub.status.idle": "2024-11-29T19:51:27.763914Z",
     "shell.execute_reply": "2024-11-29T19:51:27.762589Z"
    },
    "papermill": {
     "duration": 0.697767,
     "end_time": "2024-11-29T19:51:27.766620",
     "exception": false,
     "start_time": "2024-11-29T19:51:27.068853",
     "status": "completed"
    },
    "tags": []
   },
   "outputs": [],
   "source": [
    "# fill missing values based on probability of occurrence\n",
    "for column in train.columns:\n",
    "    null_vals = train.isnull().values\n",
    "    a, b = np.unique(train.values[~null_vals], return_counts = 1)\n",
    "    train.loc[train[column].isna(), column] = np.random.choice(a, train[column].isnull().sum(), p = b / b.sum())"
   ]
  },
  {
   "cell_type": "code",
   "execution_count": 17,
   "id": "7131af7f",
   "metadata": {
    "execution": {
     "iopub.execute_input": "2024-11-29T19:51:27.788535Z",
     "iopub.status.busy": "2024-11-29T19:51:27.788092Z",
     "iopub.status.idle": "2024-11-29T19:51:27.884941Z",
     "shell.execute_reply": "2024-11-29T19:51:27.883718Z"
    },
    "papermill": {
     "duration": 0.111096,
     "end_time": "2024-11-29T19:51:27.887954",
     "exception": false,
     "start_time": "2024-11-29T19:51:27.776858",
     "status": "completed"
    },
    "tags": []
   },
   "outputs": [],
   "source": [
    "# apply log transformation to reduce skewness over .75 by taking log(feature + 1)\n",
    "skewed_train = train.apply(lambda x: skew(x.dropna()))\n",
    "skewed_train = skewed_train[skewed_train > .75]\n",
    "train[skewed_train.index] = np.log1p(train[skewed_train.index])"
   ]
  },
  {
   "cell_type": "code",
   "execution_count": 18,
   "id": "05cfef73",
   "metadata": {
    "execution": {
     "iopub.execute_input": "2024-11-29T19:51:27.917913Z",
     "iopub.status.busy": "2024-11-29T19:51:27.917497Z",
     "iopub.status.idle": "2024-11-29T19:51:28.008833Z",
     "shell.execute_reply": "2024-11-29T19:51:28.007485Z"
    },
    "papermill": {
     "duration": 0.108649,
     "end_time": "2024-11-29T19:51:28.011267",
     "exception": false,
     "start_time": "2024-11-29T19:51:27.902618",
     "status": "completed"
    },
    "tags": []
   },
   "outputs": [],
   "source": [
    "# deal with the skewness in the test data\n",
    "skewed_test = test.apply(lambda x: skew(x.dropna()))\n",
    "skewed_test = skewed_test[skewed_test > .75]\n",
    "test[skewed_test.index] = np.log1p(test[skewed_test.index])"
   ]
  },
  {
   "cell_type": "markdown",
   "id": "96766b5f",
   "metadata": {
    "papermill": {
     "duration": 0.010733,
     "end_time": "2024-11-29T19:51:28.031597",
     "exception": false,
     "start_time": "2024-11-29T19:51:28.020864",
     "status": "completed"
    },
    "tags": []
   },
   "source": [
    "# Modelling"
   ]
  },
  {
   "cell_type": "markdown",
   "id": "dedf3412",
   "metadata": {
    "papermill": {
     "duration": 0.010456,
     "end_time": "2024-11-29T19:51:28.052450",
     "exception": false,
     "start_time": "2024-11-29T19:51:28.041994",
     "status": "completed"
    },
    "tags": []
   },
   "source": [
    "In order to train out the regression model, we need to first split up the data into an X list that contains the features to train on, and a y list with the target variable, in this case, the Price column."
   ]
  },
  {
   "cell_type": "code",
   "execution_count": 19,
   "id": "6595c786",
   "metadata": {
    "execution": {
     "iopub.execute_input": "2024-11-29T19:51:28.075503Z",
     "iopub.status.busy": "2024-11-29T19:51:28.075095Z",
     "iopub.status.idle": "2024-11-29T19:51:28.089232Z",
     "shell.execute_reply": "2024-11-29T19:51:28.088131Z"
    },
    "papermill": {
     "duration": 0.028134,
     "end_time": "2024-11-29T19:51:28.091967",
     "exception": false,
     "start_time": "2024-11-29T19:51:28.063833",
     "status": "completed"
    },
    "tags": []
   },
   "outputs": [],
   "source": [
    "X = train.drop(['SalePrice', 'Id'], axis = 1)\n",
    "y = train['SalePrice']\n",
    "X_train, X_test, y_train, y_test = train_test_split(X, y, test_size = 0.2, random_state = 42)"
   ]
  },
  {
   "cell_type": "code",
   "execution_count": 20,
   "id": "dcf30c35",
   "metadata": {
    "execution": {
     "iopub.execute_input": "2024-11-29T19:51:28.113329Z",
     "iopub.status.busy": "2024-11-29T19:51:28.112850Z",
     "iopub.status.idle": "2024-11-29T19:51:28.119102Z",
     "shell.execute_reply": "2024-11-29T19:51:28.117716Z"
    },
    "papermill": {
     "duration": 0.020033,
     "end_time": "2024-11-29T19:51:28.121673",
     "exception": false,
     "start_time": "2024-11-29T19:51:28.101640",
     "status": "completed"
    },
    "tags": []
   },
   "outputs": [],
   "source": [
    "lr = linear_model.LinearRegression()"
   ]
  },
  {
   "cell_type": "code",
   "execution_count": 21,
   "id": "5baed898",
   "metadata": {
    "execution": {
     "iopub.execute_input": "2024-11-29T19:51:28.143634Z",
     "iopub.status.busy": "2024-11-29T19:51:28.142592Z",
     "iopub.status.idle": "2024-11-29T19:51:28.193211Z",
     "shell.execute_reply": "2024-11-29T19:51:28.192162Z"
    },
    "papermill": {
     "duration": 0.065368,
     "end_time": "2024-11-29T19:51:28.196875",
     "exception": false,
     "start_time": "2024-11-29T19:51:28.131507",
     "status": "completed"
    },
    "tags": []
   },
   "outputs": [],
   "source": [
    "model = lr.fit(X_train, y_train)"
   ]
  },
  {
   "cell_type": "code",
   "execution_count": 22,
   "id": "a1b2dbe7",
   "metadata": {
    "execution": {
     "iopub.execute_input": "2024-11-29T19:51:28.232901Z",
     "iopub.status.busy": "2024-11-29T19:51:28.232112Z",
     "iopub.status.idle": "2024-11-29T19:51:28.257572Z",
     "shell.execute_reply": "2024-11-29T19:51:28.255599Z"
    },
    "papermill": {
     "duration": 0.048016,
     "end_time": "2024-11-29T19:51:28.261971",
     "exception": false,
     "start_time": "2024-11-29T19:51:28.213955",
     "status": "completed"
    },
    "tags": []
   },
   "outputs": [],
   "source": [
    "# make predictions based on model\n",
    "predictions = model.predict(X_test)"
   ]
  },
  {
   "cell_type": "code",
   "execution_count": 23,
   "id": "80cc1dc7",
   "metadata": {
    "execution": {
     "iopub.execute_input": "2024-11-29T19:51:28.325239Z",
     "iopub.status.busy": "2024-11-29T19:51:28.324160Z",
     "iopub.status.idle": "2024-11-29T19:51:28.346557Z",
     "shell.execute_reply": "2024-11-29T19:51:28.343061Z"
    },
    "papermill": {
     "duration": 0.052584,
     "end_time": "2024-11-29T19:51:28.351453",
     "exception": false,
     "start_time": "2024-11-29T19:51:28.298869",
     "status": "completed"
    },
    "tags": []
   },
   "outputs": [
    {
     "name": "stdout",
     "output_type": "stream",
     "text": [
      "MAE is: 0.08485945735071636\n",
      "MSE is: 0.01602786880287536\n",
      "RMSE is: 0.12660121959473913\n"
     ]
    }
   ],
   "source": [
    "print ('MAE is:', mean_absolute_error(y_test, predictions))\n",
    "print ('MSE is:', mean_squared_error(y_test, predictions))\n",
    "print ('RMSE is:', sqrt(mean_squared_error(y_test, predictions)))"
   ]
  },
  {
   "cell_type": "code",
   "execution_count": 24,
   "id": "accc2cc3",
   "metadata": {
    "execution": {
     "iopub.execute_input": "2024-11-29T19:51:28.387828Z",
     "iopub.status.busy": "2024-11-29T19:51:28.387164Z",
     "iopub.status.idle": "2024-11-29T19:51:28.658398Z",
     "shell.execute_reply": "2024-11-29T19:51:28.657127Z"
    },
    "papermill": {
     "duration": 0.286033,
     "end_time": "2024-11-29T19:51:28.660911",
     "exception": false,
     "start_time": "2024-11-29T19:51:28.374878",
     "status": "completed"
    },
    "tags": []
   },
   "outputs": [
    {
     "data": {
      "text/plain": [
       "Text(0.5, 1.0, 'Linear Regression Model')"
      ]
     },
     "execution_count": 24,
     "metadata": {},
     "output_type": "execute_result"
    },
    {
     "data": {
      "image/png": "[encoded data removed]",
      "text/plain": [
       "<Figure size 640x480 with 1 Axes>"
      ]
     },
     "metadata": {},
     "output_type": "display_data"
    }
   ],
   "source": [
    "# alpha helps to show overlapping data\n",
    "plt.scatter(predictions, y_test, alpha = 0.7, color = 'b')\n",
    "plt.xlabel('Predicted Price')\n",
    "plt.ylabel('Actual Price')\n",
    "plt.title('Linear Regression Model')"
   ]
  },
  {
   "cell_type": "markdown",
   "id": "7fccc81b",
   "metadata": {
    "papermill": {
     "duration": 0.009976,
     "end_time": "2024-11-29T19:51:28.681495",
     "exception": false,
     "start_time": "2024-11-29T19:51:28.671519",
     "status": "completed"
    },
    "tags": []
   },
   "source": [
    "# Submission"
   ]
  },
  {
   "cell_type": "code",
   "execution_count": 25,
   "id": "a279b128",
   "metadata": {
    "execution": {
     "iopub.execute_input": "2024-11-29T19:51:28.703886Z",
     "iopub.status.busy": "2024-11-29T19:51:28.703437Z",
     "iopub.status.idle": "2024-11-29T19:51:28.737782Z",
     "shell.execute_reply": "2024-11-29T19:51:28.736115Z"
    },
    "papermill": {
     "duration": 0.050361,
     "end_time": "2024-11-29T19:51:28.742192",
     "exception": false,
     "start_time": "2024-11-29T19:51:28.691831",
     "status": "completed"
    },
    "tags": []
   },
   "outputs": [],
   "source": [
    "submission = pd.DataFrame()\n",
    "submission['Id'] = test['Id'].astype(int)\n",
    "temp = test.select_dtypes(include = [np.number]).drop(['Id'], axis = 1).interpolate()\n",
    "predictions = model.predict(temp)\n",
    "predictions = np.exp(predictions)\n",
    "submission['SalePrice'] = predictions\n",
    "submission.to_csv('submission.csv', index = False)"
   ]
  }
 ],
 "metadata": {
  "kaggle": {
   "accelerator": "none",
   "dataSources": [
    {
     "datasetId": 6194345,
     "sourceId": 10053017,
     "sourceType": "datasetVersion"
    }
   ],
   "dockerImageVersionId": 30786,
   "isGpuEnabled": false,
   "isInternetEnabled": true,
   "language": "python",
   "sourceType": "notebook"
  },
  "kernelspec": {
   "display_name": "Python 3",
   "language": "python",
   "name": "python3"
  },
  "language_info": {
   "codemirror_mode": {
    "name": "ipython",
    "version": 3
   },
   "file_extension": ".py",
   "mimetype": "text/x-python",
   "name": "python",
   "nbconvert_exporter": "python",
   "pygments_lexer": "ipython3",
   "version": "3.10.14"
  },
  "papermill": {
   "default_parameters": {},
   "duration": 10.597601,
   "end_time": "2024-11-29T19:51:29.498713",
   "environment_variables": {},
   "exception": null,
   "input_path": "__notebook__.ipynb",
   "output_path": "__notebook__.ipynb",
   "parameters": {},
   "start_time": "2024-11-29T19:51:18.901112",
   "version": "2.6.0"
  }
 },
 "nbformat": 4,
 "nbformat_minor": 5
}
